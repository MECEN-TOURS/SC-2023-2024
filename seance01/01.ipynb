{
 "cells": [
  {
   "cell_type": "markdown",
   "id": "32008326",
   "metadata": {},
   "source": [
    "# Software Engineering and Supply Chain"
   ]
  },
  {
   "cell_type": "markdown",
   "id": "e5396d62",
   "metadata": {},
   "source": [
    "## Objectif du cours"
   ]
  },
  {
   "cell_type": "markdown",
   "id": "36d9042a-9430-4a1d-afc2-5017816b4641",
   "metadata": {},
   "source": [
    "1. Passer du paradigme \n",
    "   - script exploratoire à usage unique contrôlé visuellement\n",
    "   - application déployée pour des utilisateurs (contrôle qualité, entretien...)\n",
    "2. Graphes\n",
    "   - Modélisation à l'aide de graphe\n",
    "   - Parcours de graphe DFS/BFS\n",
    "   - Chemin les plus court programmation dynamique Bellman-Ford\n",
    "   - Flux maximaux min-cut/max-flow\n",
    "   - Ordonnancement topological-sort"
   ]
  },
  {
   "cell_type": "markdown",
   "id": "be2a04fc",
   "metadata": {},
   "source": [
    "## Problème introductif"
   ]
  },
  {
   "cell_type": "markdown",
   "id": "77bfe136-860b-44e7-9f15-825839476ed8",
   "metadata": {},
   "source": [
    "On va chercher une démarche systématique pour résoudre le puzzle pour collégiens suivants.\n",
    "\n",
    "Un berger, un loup, un mouton et un chou cherche à traverser une rivière.\n",
    "Ils ont à leur disposition une barque de deux places.\n",
    "Seul le berger est capable de ramer.\n",
    "Le loup et le mouton ne peuvent être laisser sans surveillance, de même que le mouton et le chou.\n",
    "Comment faut-il organiser les traversées?"
   ]
  },
  {
   "cell_type": "markdown",
   "id": "1af37f85-de1c-4944-b5db-92a25a6f521a",
   "metadata": {},
   "source": [
    "### Représentation des états possibles du système"
   ]
  },
  {
   "cell_type": "markdown",
   "id": "229f4940-c4dc-4fda-b328-a926d1c2ac7d",
   "metadata": {},
   "source": [
    "#### Première structure de donnée"
   ]
  },
  {
   "cell_type": "code",
   "execution_count": 1,
   "id": "d46903d1-8828-4011-9249-f1cc4ab7280e",
   "metadata": {},
   "outputs": [
    {
     "data": {
      "text/plain": [
       "{'berger': 'gauche', 'loup': 'gauche', 'mouton': 'gauche', 'chou': 'gauche'}"
      ]
     },
     "execution_count": 1,
     "metadata": {},
     "output_type": "execute_result"
    }
   ],
   "source": [
    "{\n",
    "    \"berger\": \"gauche\",\n",
    "    \"loup\": \"gauche\",\n",
    "    \"mouton\": \"gauche\",\n",
    "    \"chou\": \"gauche\",\n",
    "}"
   ]
  },
  {
   "cell_type": "markdown",
   "id": "c2e2ffa0-4a69-4996-afac-d21ec518629e",
   "metadata": {},
   "source": [
    "**Exercice** donner le code générant la liste de tous les états possibles."
   ]
  },
  {
   "cell_type": "code",
   "execution_count": 2,
   "id": "346c3917-f327-470a-a14e-24e2ae9197ad",
   "metadata": {},
   "outputs": [],
   "source": [
    "# version bourrin: copier/coller\n",
    "etats1 = [\n",
    "    {\n",
    "    \"berger\": \"gauche\",\n",
    "    \"loup\": \"gauche\",\n",
    "    \"mouton\": \"gauche\",\n",
    "    \"chou\": \"gauche\",\n",
    "    },\n",
    "    {\n",
    "    \"berger\": \"gauche\",\n",
    "    \"loup\": \"gauche\",\n",
    "    \"mouton\": \"gauche\",\n",
    "    \"chou\": \"droite\",\n",
    "    },\n",
    "    {\n",
    "    \"berger\": \"gauche\",\n",
    "    \"loup\": \"gauche\",\n",
    "    \"mouton\": \"droite\",\n",
    "    \"chou\": \"gauche\",\n",
    "    },\n",
    "    {\n",
    "    \"berger\": \"gauche\",\n",
    "    \"loup\": \"gauche\",\n",
    "    \"mouton\": \"droite\",\n",
    "    \"chou\": \"droite\",\n",
    "    },\n",
    "    {\n",
    "    \"berger\": \"gauche\",\n",
    "    \"loup\": \"droite\",\n",
    "    \"mouton\": \"gauche\",\n",
    "    \"chou\": \"gauche\",\n",
    "    },\n",
    "    {\n",
    "    \"berger\": \"gauche\",\n",
    "    \"loup\": \"droite\",\n",
    "    \"mouton\": \"gauche\",\n",
    "    \"chou\": \"droite\",\n",
    "    },\n",
    "    {\n",
    "    \"berger\": \"gauche\",\n",
    "    \"loup\": \"droite\",\n",
    "    \"mouton\": \"droite\",\n",
    "    \"chou\": \"gauche\",\n",
    "    },\n",
    "    {\n",
    "    \"berger\": \"gauche\",\n",
    "    \"loup\": \"droite\",\n",
    "    \"mouton\": \"droite\",\n",
    "    \"chou\": \"droite\",\n",
    "    },\n",
    "    {\n",
    "    \"berger\": \"droite\",\n",
    "    \"loup\": \"gauche\",\n",
    "    \"mouton\": \"gauche\",\n",
    "    \"chou\": \"gauche\",\n",
    "    },\n",
    "    {\n",
    "    \"berger\": \"droite\",\n",
    "    \"loup\": \"gauche\",\n",
    "    \"mouton\": \"gauche\",\n",
    "    \"chou\": \"droite\",\n",
    "    },\n",
    "    {\n",
    "    \"berger\": \"droite\",\n",
    "    \"loup\": \"gauche\",\n",
    "    \"mouton\": \"droite\",\n",
    "    \"chou\": \"gauche\",\n",
    "    },\n",
    "    {\n",
    "    \"berger\": \"droite\",\n",
    "    \"loup\": \"gauche\",\n",
    "    \"mouton\": \"droite\",\n",
    "    \"chou\": \"droite\",\n",
    "    },\n",
    "    {\n",
    "    \"berger\": \"droite\",\n",
    "    \"loup\": \"droite\",\n",
    "    \"mouton\": \"gauche\",\n",
    "    \"chou\": \"gauche\",\n",
    "    },\n",
    "    {\n",
    "    \"berger\": \"droite\",\n",
    "    \"loup\": \"droite\",\n",
    "    \"mouton\": \"gauche\",\n",
    "    \"chou\": \"droite\",\n",
    "    },\n",
    "    {\n",
    "    \"berger\": \"droite\",\n",
    "    \"loup\": \"droite\",\n",
    "    \"mouton\": \"droite\",\n",
    "    \"chou\": \"gauche\",\n",
    "    },\n",
    "    {\n",
    "    \"berger\": \"droite\",\n",
    "    \"loup\": \"droite\",\n",
    "    \"mouton\": \"droite\",\n",
    "    \"chou\": \"droite\",\n",
    "    },\n",
    "]"
   ]
  },
  {
   "cell_type": "code",
   "execution_count": 3,
   "id": "467607a4-6d89-4fed-82d3-9e9254b02f34",
   "metadata": {},
   "outputs": [
    {
     "data": {
      "text/plain": [
       "[{'berger': 'gauche', 'loup': 'gauche', 'mouton': 'gauche', 'chou': 'gauche'},\n",
       " {'berger': 'gauche', 'loup': 'gauche', 'mouton': 'gauche', 'chou': 'droite'},\n",
       " {'berger': 'gauche', 'loup': 'gauche', 'mouton': 'droite', 'chou': 'gauche'},\n",
       " {'berger': 'gauche', 'loup': 'gauche', 'mouton': 'droite', 'chou': 'droite'},\n",
       " {'berger': 'gauche', 'loup': 'droite', 'mouton': 'gauche', 'chou': 'gauche'},\n",
       " {'berger': 'gauche', 'loup': 'droite', 'mouton': 'gauche', 'chou': 'droite'},\n",
       " {'berger': 'gauche', 'loup': 'droite', 'mouton': 'droite', 'chou': 'gauche'},\n",
       " {'berger': 'gauche', 'loup': 'droite', 'mouton': 'droite', 'chou': 'droite'},\n",
       " {'berger': 'droite', 'loup': 'gauche', 'mouton': 'gauche', 'chou': 'gauche'},\n",
       " {'berger': 'droite', 'loup': 'gauche', 'mouton': 'gauche', 'chou': 'droite'},\n",
       " {'berger': 'droite', 'loup': 'gauche', 'mouton': 'droite', 'chou': 'gauche'},\n",
       " {'berger': 'droite', 'loup': 'gauche', 'mouton': 'droite', 'chou': 'droite'},\n",
       " {'berger': 'droite', 'loup': 'droite', 'mouton': 'gauche', 'chou': 'gauche'},\n",
       " {'berger': 'droite', 'loup': 'droite', 'mouton': 'gauche', 'chou': 'droite'},\n",
       " {'berger': 'droite', 'loup': 'droite', 'mouton': 'droite', 'chou': 'gauche'},\n",
       " {'berger': 'droite', 'loup': 'droite', 'mouton': 'droite', 'chou': 'droite'}]"
      ]
     },
     "execution_count": 3,
     "metadata": {},
     "output_type": "execute_result"
    }
   ],
   "source": [
    "etats1"
   ]
  },
  {
   "cell_type": "markdown",
   "id": "0be8a3a8-0370-4878-b7bb-5862241e4f41",
   "metadata": {},
   "source": [
    "**Constat**\n",
    "- ennuyeux\n",
    "- une faute de frappe est vite arrivée\n",
    "- ne passe pas à l'échelle s'il le problème a plus d'entrées (6 personnages...)\n",
    "- de manière général, le copier coller est un signe qu'une boucle pourrait aider"
   ]
  },
  {
   "cell_type": "code",
   "execution_count": 4,
   "id": "fc26f7da-adc0-4b1b-92e7-49613a3e3397",
   "metadata": {},
   "outputs": [
    {
     "data": {
      "text/plain": [
       "[{'berger': 'gauche', 'loup': 'gauche', 'mouton': 'gauche', 'chou': 'gauche'},\n",
       " {'berger': 'gauche', 'loup': 'gauche', 'mouton': 'gauche', 'chou': 'droite'},\n",
       " {'berger': 'gauche', 'loup': 'gauche', 'mouton': 'droite', 'chou': 'gauche'},\n",
       " {'berger': 'gauche', 'loup': 'gauche', 'mouton': 'droite', 'chou': 'droite'},\n",
       " {'berger': 'gauche', 'loup': 'droite', 'mouton': 'gauche', 'chou': 'gauche'},\n",
       " {'berger': 'gauche', 'loup': 'droite', 'mouton': 'gauche', 'chou': 'droite'},\n",
       " {'berger': 'gauche', 'loup': 'droite', 'mouton': 'droite', 'chou': 'gauche'},\n",
       " {'berger': 'gauche', 'loup': 'droite', 'mouton': 'droite', 'chou': 'droite'},\n",
       " {'berger': 'droite', 'loup': 'gauche', 'mouton': 'gauche', 'chou': 'gauche'},\n",
       " {'berger': 'droite', 'loup': 'gauche', 'mouton': 'gauche', 'chou': 'droite'},\n",
       " {'berger': 'droite', 'loup': 'gauche', 'mouton': 'droite', 'chou': 'gauche'},\n",
       " {'berger': 'droite', 'loup': 'gauche', 'mouton': 'droite', 'chou': 'droite'},\n",
       " {'berger': 'droite', 'loup': 'droite', 'mouton': 'gauche', 'chou': 'gauche'},\n",
       " {'berger': 'droite', 'loup': 'droite', 'mouton': 'gauche', 'chou': 'droite'},\n",
       " {'berger': 'droite', 'loup': 'droite', 'mouton': 'droite', 'chou': 'gauche'},\n",
       " {'berger': 'droite', 'loup': 'droite', 'mouton': 'droite', 'chou': 'droite'}]"
      ]
     },
     "execution_count": 4,
     "metadata": {},
     "output_type": "execute_result"
    }
   ],
   "source": [
    "etats2 = list()\n",
    "for berger in (\"gauche\", \"droite\"):\n",
    "    for loup in (\"gauche\", \"droite\"):\n",
    "        for mouton in (\"gauche\", \"droite\"):\n",
    "            for chou in (\"gauche\", \"droite\"):\n",
    "                etats2.append(\n",
    "                    {\n",
    "                        \"berger\": berger,\n",
    "                        \"loup\": loup,\n",
    "                        \"mouton\": mouton,\n",
    "                        \"chou\": chou,\n",
    "                    }\n",
    "                )\n",
    "etats2"
   ]
  },
  {
   "cell_type": "code",
   "execution_count": 5,
   "id": "414f6b79-3a45-49c6-8a72-0c5dc61e4538",
   "metadata": {},
   "outputs": [],
   "source": [
    "# premières vérifications sous forme de tests\n",
    "assert etats1 == etats2\n",
    "assert len(etats2) == 16"
   ]
  },
  {
   "cell_type": "markdown",
   "id": "19b081d4-67a9-4acc-8523-92ef27babcb9",
   "metadata": {},
   "source": [
    "**Exercice**\n",
    "Donner un code de test vérifiant:\n",
    "- que les clefs sont bien celles attendues\n",
    "- que les valeurs sont bien celles attendues\n",
    "- qu'il n'y a pas de doublon dans la liste `etats2`"
   ]
  },
  {
   "cell_type": "code",
   "execution_count": 6,
   "id": "0772b18b-5e8c-42e1-9509-924f426ea6e9",
   "metadata": {},
   "outputs": [],
   "source": [
    "def verifie_clefs(etat):\n",
    "    return list(etat.keys()) == ['berger', 'loup', 'mouton', 'chou']\n",
    "\n",
    "for etat in etats2:\n",
    "    assert verifie_clefs(etat)"
   ]
  },
  {
   "cell_type": "code",
   "execution_count": 7,
   "id": "7bc92505-84e9-42fd-b9ba-1479cd461279",
   "metadata": {},
   "outputs": [],
   "source": [
    "def verifie_valeurs(etat):\n",
    "    for valeur in etat.values():\n",
    "        #if valeur not in {\"gauche\", \"droite\"}:\n",
    "        if valeur != \"gauche\" and valeur != \"droite\":\n",
    "            return False\n",
    "    return True"
   ]
  },
  {
   "cell_type": "code",
   "execution_count": 8,
   "id": "40fd4854-dccc-4c02-8df0-472b4a1f08f1",
   "metadata": {},
   "outputs": [],
   "source": [
    "for etat in etats2:\n",
    "    assert verifie_valeurs(etat)"
   ]
  },
  {
   "cell_type": "code",
   "execution_count": 9,
   "id": "9948c37b-426b-4e83-956d-65b24942b292",
   "metadata": {},
   "outputs": [],
   "source": [
    "def verifie_valeurs_bis(etat: dict[str, str]) -> bool:\n",
    "    return all(valeur in {\"gauche\", \"droite\"} for valeur in etat.values())"
   ]
  },
  {
   "cell_type": "code",
   "execution_count": 10,
   "id": "a8a45775-838e-495f-bc30-68537a86cfcf",
   "metadata": {},
   "outputs": [],
   "source": [
    "def verifie_doublons(liste: list[str]) -> bool:\n",
    "    for i1, el1 in enumerate(liste):\n",
    "        for i2, el2 in enumerate(liste):\n",
    "            if i1 != i2 and el1 == el2:\n",
    "                return False\n",
    "    return True"
   ]
  },
  {
   "cell_type": "code",
   "execution_count": 11,
   "id": "6bf831f9-f785-42e7-9d90-7d2efd33a27a",
   "metadata": {},
   "outputs": [],
   "source": [
    "# vérification de la fonction verifie_doublons\n",
    "assert verifie_doublons([1, 2, 3])\n",
    "assert not verifie_doublons([1, 2, 3, 3])"
   ]
  },
  {
   "cell_type": "code",
   "execution_count": 12,
   "id": "4a71be4b-8ff4-4479-8508-1afdfec1c68c",
   "metadata": {},
   "outputs": [],
   "source": [
    "# vérification de etats2\n",
    "assert verifie_doublons(etats2)"
   ]
  },
  {
   "cell_type": "markdown",
   "id": "2224bca4-e8c3-462f-b36c-04404c5ebdcc",
   "metadata": {},
   "source": [
    "**Conclusion** on a des tests qui permettent de croire que `etats2` est correcte."
   ]
  },
  {
   "cell_type": "markdown",
   "id": "c0ff0409-495c-4546-b2c5-d752daef3dc4",
   "metadata": {},
   "source": [
    "**Remarque** quand on cherche à typer le code précédent, on voit que un etat est de type `dict[str, str]` mais de nombreux éléments de ce type ne sont pas des états! \n",
    "C'est ce qui nous a forcé à vérifier les clefs et les valeurs."
   ]
  },
  {
   "cell_type": "markdown",
   "id": "30e669a5-52cd-4696-af4b-7281b3a29cf8",
   "metadata": {},
   "source": [
    "#### Deuxième structure de données"
   ]
  },
  {
   "cell_type": "code",
   "execution_count": 13,
   "id": "3b1ba864-f999-4e31-b4b9-1bdc5d6d5f04",
   "metadata": {},
   "outputs": [],
   "source": [
    "from enum import Enum\n",
    "from dataclasses import dataclass"
   ]
  },
  {
   "cell_type": "code",
   "execution_count": 14,
   "id": "2072a2cf-71b2-4dfc-9280-e4e377249deb",
   "metadata": {},
   "outputs": [],
   "source": [
    "class Rive(Enum):\n",
    "    GAUCHE = \"gauche\"\n",
    "    DROITE = \"droite\""
   ]
  },
  {
   "cell_type": "code",
   "execution_count": 15,
   "id": "9d222cf3-4dad-4004-865d-3321004abb53",
   "metadata": {},
   "outputs": [],
   "source": [
    "# frozen permet d'avoir des états immutables\n",
    "# unsafe_hash permet d'utiliser un état dans un set ou comme clef dans un dict\n",
    "@dataclass(frozen=True, unsafe_hash=True)\n",
    "class Etat:\n",
    "    berger: Rive\n",
    "    loup: Rive\n",
    "    mouton: Rive\n",
    "    chou: Rive"
   ]
  },
  {
   "cell_type": "code",
   "execution_count": 16,
   "id": "a58292b0-b043-4038-86e0-b19ed79a946f",
   "metadata": {},
   "outputs": [
    {
     "data": {
      "text/plain": [
       "Etat(berger=<Rive.GAUCHE: 'gauche'>, loup=<Rive.GAUCHE: 'gauche'>, mouton=<Rive.GAUCHE: 'gauche'>, chou=<Rive.GAUCHE: 'gauche'>)"
      ]
     },
     "execution_count": 16,
     "metadata": {},
     "output_type": "execute_result"
    }
   ],
   "source": [
    "depart = Etat(\n",
    "    berger=Rive.GAUCHE, \n",
    "    loup=Rive.GAUCHE, \n",
    "    mouton=Rive.GAUCHE, \n",
    "    chou=Rive.GAUCHE\n",
    ")\n",
    "depart"
   ]
  },
  {
   "cell_type": "markdown",
   "id": "104da830-d963-4612-9e49-b7dd45217848",
   "metadata": {},
   "source": [
    "**Remarque** un objet de type `Etat` est forcément une représentation correct d'un état."
   ]
  },
  {
   "cell_type": "code",
   "execution_count": 17,
   "id": "f3c9e86e-3be4-4206-8e67-a24f1eae4b0f",
   "metadata": {},
   "outputs": [
    {
     "data": {
      "text/plain": [
       "[Etat(berger=<Rive.GAUCHE: 'gauche'>, loup=<Rive.GAUCHE: 'gauche'>, mouton=<Rive.GAUCHE: 'gauche'>, chou=<Rive.GAUCHE: 'gauche'>),\n",
       " Etat(berger=<Rive.GAUCHE: 'gauche'>, loup=<Rive.GAUCHE: 'gauche'>, mouton=<Rive.GAUCHE: 'gauche'>, chou=<Rive.DROITE: 'droite'>),\n",
       " Etat(berger=<Rive.GAUCHE: 'gauche'>, loup=<Rive.GAUCHE: 'gauche'>, mouton=<Rive.DROITE: 'droite'>, chou=<Rive.GAUCHE: 'gauche'>),\n",
       " Etat(berger=<Rive.GAUCHE: 'gauche'>, loup=<Rive.GAUCHE: 'gauche'>, mouton=<Rive.DROITE: 'droite'>, chou=<Rive.DROITE: 'droite'>),\n",
       " Etat(berger=<Rive.GAUCHE: 'gauche'>, loup=<Rive.DROITE: 'droite'>, mouton=<Rive.GAUCHE: 'gauche'>, chou=<Rive.GAUCHE: 'gauche'>),\n",
       " Etat(berger=<Rive.GAUCHE: 'gauche'>, loup=<Rive.DROITE: 'droite'>, mouton=<Rive.GAUCHE: 'gauche'>, chou=<Rive.DROITE: 'droite'>),\n",
       " Etat(berger=<Rive.GAUCHE: 'gauche'>, loup=<Rive.DROITE: 'droite'>, mouton=<Rive.DROITE: 'droite'>, chou=<Rive.GAUCHE: 'gauche'>),\n",
       " Etat(berger=<Rive.GAUCHE: 'gauche'>, loup=<Rive.DROITE: 'droite'>, mouton=<Rive.DROITE: 'droite'>, chou=<Rive.DROITE: 'droite'>),\n",
       " Etat(berger=<Rive.DROITE: 'droite'>, loup=<Rive.GAUCHE: 'gauche'>, mouton=<Rive.GAUCHE: 'gauche'>, chou=<Rive.GAUCHE: 'gauche'>),\n",
       " Etat(berger=<Rive.DROITE: 'droite'>, loup=<Rive.GAUCHE: 'gauche'>, mouton=<Rive.GAUCHE: 'gauche'>, chou=<Rive.DROITE: 'droite'>),\n",
       " Etat(berger=<Rive.DROITE: 'droite'>, loup=<Rive.GAUCHE: 'gauche'>, mouton=<Rive.DROITE: 'droite'>, chou=<Rive.GAUCHE: 'gauche'>),\n",
       " Etat(berger=<Rive.DROITE: 'droite'>, loup=<Rive.GAUCHE: 'gauche'>, mouton=<Rive.DROITE: 'droite'>, chou=<Rive.DROITE: 'droite'>),\n",
       " Etat(berger=<Rive.DROITE: 'droite'>, loup=<Rive.DROITE: 'droite'>, mouton=<Rive.GAUCHE: 'gauche'>, chou=<Rive.GAUCHE: 'gauche'>),\n",
       " Etat(berger=<Rive.DROITE: 'droite'>, loup=<Rive.DROITE: 'droite'>, mouton=<Rive.GAUCHE: 'gauche'>, chou=<Rive.DROITE: 'droite'>),\n",
       " Etat(berger=<Rive.DROITE: 'droite'>, loup=<Rive.DROITE: 'droite'>, mouton=<Rive.DROITE: 'droite'>, chou=<Rive.GAUCHE: 'gauche'>),\n",
       " Etat(berger=<Rive.DROITE: 'droite'>, loup=<Rive.DROITE: 'droite'>, mouton=<Rive.DROITE: 'droite'>, chou=<Rive.DROITE: 'droite'>)]"
      ]
     },
     "execution_count": 17,
     "metadata": {},
     "output_type": "execute_result"
    }
   ],
   "source": [
    "etats3 = list()\n",
    "rives = (Rive.GAUCHE, Rive.DROITE) # pour la lisibilité on aurait pu itérer Rive directement\n",
    "for berger in rives:\n",
    "    for loup in rives:\n",
    "        for mouton in rives:\n",
    "            for chou in rives:\n",
    "                etats3.append(\n",
    "                    Etat(\n",
    "                        berger=berger,\n",
    "                        loup=loup,\n",
    "                        mouton=mouton,\n",
    "                        chou=chou,  \n",
    "                    )\n",
    "                )\n",
    "etats3"
   ]
  },
  {
   "cell_type": "code",
   "execution_count": 18,
   "id": "9e69ebfe-876c-4bef-b69b-83b449ddc8c0",
   "metadata": {},
   "outputs": [],
   "source": [
    "# seules 2 vérifications élémentaires sont nécessaires\n",
    "assert len(etats3) == 16\n",
    "assert len(set(etats3)) == 16"
   ]
  },
  {
   "cell_type": "markdown",
   "id": "b4ec3171-9a5c-4e6c-a819-ed9106025047",
   "metadata": {},
   "source": [
    "### Représentation des états avec contraintes"
   ]
  },
  {
   "cell_type": "markdown",
   "id": "263ce4ed-60f0-4eb9-b73f-27be3d24d3fd",
   "metadata": {},
   "source": [
    "**Exercice** Coder une fonction `verifie_contraintes` prenant en entrée un `Etat` et renvoyant un `bool` indiquant si l'état vérifie les contraintes sur les couples loup/mouton et mouton/chou."
   ]
  },
  {
   "cell_type": "code",
   "execution_count": 19,
   "id": "0af415cd-54e4-49bb-8d39-d730665718f8",
   "metadata": {},
   "outputs": [],
   "source": [
    "def verifie_contraintes(etat: Etat) -> bool:\n",
    "    if etat.loup == etat.mouton and etat.berger != etat.loup:\n",
    "        return False\n",
    "    if etat.mouton == etat.chou and etat.berger != etat.mouton:\n",
    "        return False\n",
    "    return True\n",
    "    "
   ]
  },
  {
   "cell_type": "code",
   "execution_count": 20,
   "id": "6bf93835-2577-4a9d-9fe5-639c8c4ddcc5",
   "metadata": {
    "tags": []
   },
   "outputs": [
    {
     "data": {
      "text/plain": [
       "[Etat(berger=<Rive.GAUCHE: 'gauche'>, loup=<Rive.GAUCHE: 'gauche'>, mouton=<Rive.GAUCHE: 'gauche'>, chou=<Rive.GAUCHE: 'gauche'>),\n",
       " Etat(berger=<Rive.GAUCHE: 'gauche'>, loup=<Rive.GAUCHE: 'gauche'>, mouton=<Rive.GAUCHE: 'gauche'>, chou=<Rive.DROITE: 'droite'>),\n",
       " Etat(berger=<Rive.GAUCHE: 'gauche'>, loup=<Rive.GAUCHE: 'gauche'>, mouton=<Rive.DROITE: 'droite'>, chou=<Rive.GAUCHE: 'gauche'>),\n",
       " Etat(berger=<Rive.GAUCHE: 'gauche'>, loup=<Rive.DROITE: 'droite'>, mouton=<Rive.GAUCHE: 'gauche'>, chou=<Rive.GAUCHE: 'gauche'>),\n",
       " Etat(berger=<Rive.GAUCHE: 'gauche'>, loup=<Rive.DROITE: 'droite'>, mouton=<Rive.GAUCHE: 'gauche'>, chou=<Rive.DROITE: 'droite'>),\n",
       " Etat(berger=<Rive.DROITE: 'droite'>, loup=<Rive.GAUCHE: 'gauche'>, mouton=<Rive.DROITE: 'droite'>, chou=<Rive.GAUCHE: 'gauche'>),\n",
       " Etat(berger=<Rive.DROITE: 'droite'>, loup=<Rive.GAUCHE: 'gauche'>, mouton=<Rive.DROITE: 'droite'>, chou=<Rive.DROITE: 'droite'>),\n",
       " Etat(berger=<Rive.DROITE: 'droite'>, loup=<Rive.DROITE: 'droite'>, mouton=<Rive.GAUCHE: 'gauche'>, chou=<Rive.DROITE: 'droite'>),\n",
       " Etat(berger=<Rive.DROITE: 'droite'>, loup=<Rive.DROITE: 'droite'>, mouton=<Rive.DROITE: 'droite'>, chou=<Rive.GAUCHE: 'gauche'>),\n",
       " Etat(berger=<Rive.DROITE: 'droite'>, loup=<Rive.DROITE: 'droite'>, mouton=<Rive.DROITE: 'droite'>, chou=<Rive.DROITE: 'droite'>)]"
      ]
     },
     "execution_count": 20,
     "metadata": {},
     "output_type": "execute_result"
    }
   ],
   "source": [
    "# Construction par accumulation\n",
    "sommets1 = list()\n",
    "for etat in etats3:\n",
    "    if verifie_contraintes(etat):\n",
    "        sommets1.append(etat)\n",
    "sommets1"
   ]
  },
  {
   "cell_type": "code",
   "execution_count": 21,
   "id": "b12eed11-ff03-421b-b094-86c162a01e42",
   "metadata": {},
   "outputs": [],
   "source": [
    "# Construction alternative par compréhension de liste\n",
    "sommets2 = [etat for etat in etats3 if verifie_contraintes(etat)]"
   ]
  },
  {
   "cell_type": "code",
   "execution_count": 22,
   "id": "941454ad-eaea-4dbd-ae07-f9fdd20522e6",
   "metadata": {},
   "outputs": [
    {
     "data": {
      "text/plain": [
       "True"
      ]
     },
     "execution_count": 22,
     "metadata": {},
     "output_type": "execute_result"
    }
   ],
   "source": [
    "sommets2 == sommets1"
   ]
  },
  {
   "cell_type": "markdown",
   "id": "d314fc62-e31b-4b7c-8838-1ce1791f7b2d",
   "metadata": {},
   "source": [
    "### Création des arrêtes du graphe"
   ]
  },
  {
   "cell_type": "markdown",
   "id": "2280ab0b-1c5f-4f07-9abc-39527819bb41",
   "metadata": {},
   "source": [
    "**Exercice** Coder une fonction `sont_connectes` prenant en entrée deux `Etat` et renvoyant un `bool` suivant que les deux sont connectés par une traversée de barque ou non!"
   ]
  },
  {
   "cell_type": "code",
   "execution_count": 23,
   "id": "9086ed29-9bd6-46d9-b468-ed8829fa7622",
   "metadata": {},
   "outputs": [],
   "source": [
    "def sont_connectes(etat1: Etat, etat2: Etat) -> bool:\n",
    "    if etat1.berger == etat2.berger:\n",
    "        return False\n",
    "    nombre_de_changement = 0\n",
    "    if etat1.mouton != etat2.mouton:\n",
    "        nombre_de_changement += 1\n",
    "        if etat1.mouton != etat1.berger:\n",
    "            return False\n",
    "    if etat1.loup != etat2.loup:\n",
    "        nombre_de_changement += 1\n",
    "        if etat1.loup != etat1.berger:\n",
    "            return False\n",
    "    if etat1.chou != etat2.chou:\n",
    "        nombre_de_changement += 1\n",
    "        if etat1.chou != etat1.berger:\n",
    "            return False\n",
    "    return nombre_de_changement <= 1"
   ]
  },
  {
   "cell_type": "code",
   "execution_count": 24,
   "id": "51abf401-16e4-4d9f-9a7f-31849f5392f5",
   "metadata": {},
   "outputs": [],
   "source": [
    "arretes = [\n",
    "    (sommet1, sommet2) \n",
    "    for sommet1 in sommets2 \n",
    "    for sommet2 in sommets2 \n",
    "    if sont_connectes(sommet1, sommet2)\n",
    "]"
   ]
  },
  {
   "cell_type": "code",
   "execution_count": 25,
   "id": "43bed8aa-95a5-438a-b179-5b16707050b3",
   "metadata": {},
   "outputs": [
    {
     "data": {
      "text/plain": [
       "10"
      ]
     },
     "execution_count": 25,
     "metadata": {},
     "output_type": "execute_result"
    }
   ],
   "source": [
    "len(sommets2)"
   ]
  },
  {
   "cell_type": "code",
   "execution_count": 26,
   "id": "116834b1-b074-4575-b44f-14bf837e0851",
   "metadata": {},
   "outputs": [
    {
     "data": {
      "text/plain": [
       "20"
      ]
     },
     "execution_count": 26,
     "metadata": {},
     "output_type": "execute_result"
    }
   ],
   "source": [
    "len(arretes)"
   ]
  },
  {
   "cell_type": "code",
   "execution_count": 27,
   "id": "82ff24c6-2002-4e1e-b84e-294491a91790",
   "metadata": {},
   "outputs": [],
   "source": [
    "depart = Etat(\n",
    "    berger=Rive.GAUCHE,\n",
    "    loup=Rive.GAUCHE,\n",
    "    mouton=Rive.GAUCHE,\n",
    "    chou=Rive.GAUCHE,\n",
    ")"
   ]
  },
  {
   "cell_type": "code",
   "execution_count": 28,
   "id": "33f84ae2-cd7d-4e21-9d3c-cac892e4aad6",
   "metadata": {},
   "outputs": [],
   "source": [
    "arrivee = Etat(\n",
    "    berger=Rive.DROITE,\n",
    "    loup=Rive.DROITE,\n",
    "    mouton=Rive.DROITE,\n",
    "    chou=Rive.DROITE,\n",
    ")"
   ]
  },
  {
   "cell_type": "markdown",
   "id": "c297d701-6c20-460b-954c-7ef7323c53aa",
   "metadata": {},
   "source": [
    "### Résolution du problème"
   ]
  },
  {
   "cell_type": "markdown",
   "id": "2d31f76a-8184-4bb3-9654-54570349a8cc",
   "metadata": {},
   "source": [
    "Peut-on aller de `depart` à `arrivee` en empruntant juste des éléments de `arretes`?\n",
    "Si oui donner un exemple de trajet ou la liste des tous les trajets."
   ]
  }
 ],
 "metadata": {
  "kernelspec": {
   "display_name": "Python 3 (ipykernel)",
   "language": "python",
   "name": "python3"
  },
  "language_info": {
   "codemirror_mode": {
    "name": "ipython",
    "version": 3
   },
   "file_extension": ".py",
   "mimetype": "text/x-python",
   "name": "python",
   "nbconvert_exporter": "python",
   "pygments_lexer": "ipython3",
   "version": "3.11.0"
  }
 },
 "nbformat": 4,
 "nbformat_minor": 5
}

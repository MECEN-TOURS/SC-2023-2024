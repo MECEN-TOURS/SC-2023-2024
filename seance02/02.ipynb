{
 "cells": [
  {
   "cell_type": "code",
   "execution_count": 1,
   "id": "3f686a2e-f995-4381-ab49-ef66b5582f9d",
   "metadata": {},
   "outputs": [],
   "source": [
    "from rich import print"
   ]
  },
  {
   "cell_type": "code",
   "execution_count": 2,
   "id": "e963a377-412c-4205-91fa-a353b3760f88",
   "metadata": {},
   "outputs": [
    {
     "data": {
      "text/html": [
       "<pre style=\"white-space:pre;overflow-x:auto;line-height:normal;font-family:Menlo,'DejaVu Sans Mono',consolas,'Courier New',monospace\"><span style=\"font-weight: bold\">[</span><span style=\"color: #008000; text-decoration-color: #008000\">'A'</span>, <span style=\"color: #008000; text-decoration-color: #008000\">'B'</span>, <span style=\"color: #008000; text-decoration-color: #008000\">'C'</span>, <span style=\"color: #008000; text-decoration-color: #008000\">'D'</span>, <span style=\"color: #008000; text-decoration-color: #008000\">'E'</span>, <span style=\"color: #008000; text-decoration-color: #008000\">'F'</span><span style=\"font-weight: bold\">]</span>\n",
       "</pre>\n"
      ],
      "text/plain": [
       "\u001b[1m[\u001b[0m\u001b[32m'A'\u001b[0m, \u001b[32m'B'\u001b[0m, \u001b[32m'C'\u001b[0m, \u001b[32m'D'\u001b[0m, \u001b[32m'E'\u001b[0m, \u001b[32m'F'\u001b[0m\u001b[1m]\u001b[0m\n"
      ]
     },
     "metadata": {},
     "output_type": "display_data"
    },
    {
     "data": {
      "text/html": [
       "<pre style=\"white-space:pre;overflow-x:auto;line-height:normal;font-family:Menlo,'DejaVu Sans Mono',consolas,'Courier New',monospace\"><span style=\"font-weight: bold\">[(</span><span style=\"color: #008000; text-decoration-color: #008000\">'A'</span>, <span style=\"color: #008000; text-decoration-color: #008000\">'B'</span><span style=\"font-weight: bold\">)</span>, <span style=\"font-weight: bold\">(</span><span style=\"color: #008000; text-decoration-color: #008000\">'A'</span>, <span style=\"color: #008000; text-decoration-color: #008000\">'C'</span><span style=\"font-weight: bold\">)</span>, <span style=\"font-weight: bold\">(</span><span style=\"color: #008000; text-decoration-color: #008000\">'B'</span>, <span style=\"color: #008000; text-decoration-color: #008000\">'D'</span><span style=\"font-weight: bold\">)</span>, <span style=\"font-weight: bold\">(</span><span style=\"color: #008000; text-decoration-color: #008000\">'C'</span>, <span style=\"color: #008000; text-decoration-color: #008000\">'B'</span><span style=\"font-weight: bold\">)</span>, <span style=\"font-weight: bold\">(</span><span style=\"color: #008000; text-decoration-color: #008000\">'C'</span>, <span style=\"color: #008000; text-decoration-color: #008000\">'D'</span><span style=\"font-weight: bold\">)</span>, <span style=\"font-weight: bold\">(</span><span style=\"color: #008000; text-decoration-color: #008000\">'D'</span>, <span style=\"color: #008000; text-decoration-color: #008000\">'E'</span><span style=\"font-weight: bold\">)</span>, <span style=\"font-weight: bold\">(</span><span style=\"color: #008000; text-decoration-color: #008000\">'E'</span>, <span style=\"color: #008000; text-decoration-color: #008000\">'F'</span><span style=\"font-weight: bold\">)</span>, <span style=\"font-weight: bold\">(</span><span style=\"color: #008000; text-decoration-color: #008000\">'F'</span>, <span style=\"color: #008000; text-decoration-color: #008000\">'D'</span><span style=\"font-weight: bold\">)</span>, <span style=\"font-weight: bold\">(</span><span style=\"color: #008000; text-decoration-color: #008000\">'F'</span>, <span style=\"color: #008000; text-decoration-color: #008000\">'C'</span><span style=\"font-weight: bold\">)]</span>\n",
       "</pre>\n"
      ],
      "text/plain": [
       "\u001b[1m[\u001b[0m\u001b[1m(\u001b[0m\u001b[32m'A'\u001b[0m, \u001b[32m'B'\u001b[0m\u001b[1m)\u001b[0m, \u001b[1m(\u001b[0m\u001b[32m'A'\u001b[0m, \u001b[32m'C'\u001b[0m\u001b[1m)\u001b[0m, \u001b[1m(\u001b[0m\u001b[32m'B'\u001b[0m, \u001b[32m'D'\u001b[0m\u001b[1m)\u001b[0m, \u001b[1m(\u001b[0m\u001b[32m'C'\u001b[0m, \u001b[32m'B'\u001b[0m\u001b[1m)\u001b[0m, \u001b[1m(\u001b[0m\u001b[32m'C'\u001b[0m, \u001b[32m'D'\u001b[0m\u001b[1m)\u001b[0m, \u001b[1m(\u001b[0m\u001b[32m'D'\u001b[0m, \u001b[32m'E'\u001b[0m\u001b[1m)\u001b[0m, \u001b[1m(\u001b[0m\u001b[32m'E'\u001b[0m, \u001b[32m'F'\u001b[0m\u001b[1m)\u001b[0m, \u001b[1m(\u001b[0m\u001b[32m'F'\u001b[0m, \u001b[32m'D'\u001b[0m\u001b[1m)\u001b[0m, \u001b[1m(\u001b[0m\u001b[32m'F'\u001b[0m, \u001b[32m'C'\u001b[0m\u001b[1m)\u001b[0m\u001b[1m]\u001b[0m\n"
      ]
     },
     "metadata": {},
     "output_type": "display_data"
    }
   ],
   "source": [
    "sommets = list(\"ABCDEF\")\n",
    "arretes = [\n",
    "    tuple(\"AB\"),\n",
    "    tuple(\"AC\"),\n",
    "    tuple(\"BD\"),\n",
    "    tuple(\"CB\"),\n",
    "    tuple(\"CD\"),\n",
    "    tuple(\"DE\"),\n",
    "    tuple(\"EF\"),\n",
    "    tuple(\"FD\"),\n",
    "    tuple(\"FC\"),\n",
    "]\n",
    "print(sommets)\n",
    "print(arretes)"
   ]
  },
  {
   "cell_type": "code",
   "execution_count": 3,
   "id": "b39f76d7-16f1-4ed5-ba1b-75332548950e",
   "metadata": {},
   "outputs": [],
   "source": [
    "def sont_relies(depart: str, arrivee: str, arretes: list[tuple[str, str]]) -> bool:\n",
    "    if depart == arrivee:\n",
    "        return True\n",
    "    voisins = [e2 for (e1, e2) in arretes if e1 == depart]\n",
    "    for voisin in voisins:\n",
    "        if sont_relies(\n",
    "            depart=voisin, \n",
    "            arrivee=arrivee, \n",
    "            arretes=[arrete for arrete in arretes if arrete != (depart, voisin)]\n",
    "        ):\n",
    "            return True\n",
    "    return False"
   ]
  },
  {
   "cell_type": "code",
   "execution_count": 4,
   "id": "25c1d271-f58b-4b74-9a62-a52ec00aa526",
   "metadata": {},
   "outputs": [
    {
     "data": {
      "text/html": [
       "<pre style=\"white-space:pre;overflow-x:auto;line-height:normal;font-family:Menlo,'DejaVu Sans Mono',consolas,'Courier New',monospace\">B\n",
       "</pre>\n"
      ],
      "text/plain": [
       "B\n"
      ]
     },
     "metadata": {},
     "output_type": "display_data"
    },
    {
     "data": {
      "text/plain": [
       "True"
      ]
     },
     "execution_count": 4,
     "metadata": {},
     "output_type": "execute_result"
    }
   ],
   "source": [
    "sont_relies(depart=\"A\", arrivee=\"B\", arretes=arretes)"
   ]
  },
  {
   "cell_type": "code",
   "execution_count": 5,
   "id": "69c8d8d2-df02-4cfd-8d5d-8c0d08699040",
   "metadata": {},
   "outputs": [
    {
     "data": {
      "text/html": [
       "<pre style=\"white-space:pre;overflow-x:auto;line-height:normal;font-family:Menlo,'DejaVu Sans Mono',consolas,'Courier New',monospace\">B\n",
       "</pre>\n"
      ],
      "text/plain": [
       "B\n"
      ]
     },
     "metadata": {},
     "output_type": "display_data"
    },
    {
     "data": {
      "text/html": [
       "<pre style=\"white-space:pre;overflow-x:auto;line-height:normal;font-family:Menlo,'DejaVu Sans Mono',consolas,'Courier New',monospace\">D\n",
       "</pre>\n"
      ],
      "text/plain": [
       "D\n"
      ]
     },
     "metadata": {},
     "output_type": "display_data"
    },
    {
     "data": {
      "text/html": [
       "<pre style=\"white-space:pre;overflow-x:auto;line-height:normal;font-family:Menlo,'DejaVu Sans Mono',consolas,'Courier New',monospace\">E\n",
       "</pre>\n"
      ],
      "text/plain": [
       "E\n"
      ]
     },
     "metadata": {},
     "output_type": "display_data"
    },
    {
     "data": {
      "text/html": [
       "<pre style=\"white-space:pre;overflow-x:auto;line-height:normal;font-family:Menlo,'DejaVu Sans Mono',consolas,'Courier New',monospace\">F\n",
       "</pre>\n"
      ],
      "text/plain": [
       "F\n"
      ]
     },
     "metadata": {},
     "output_type": "display_data"
    },
    {
     "data": {
      "text/plain": [
       "True"
      ]
     },
     "execution_count": 5,
     "metadata": {},
     "output_type": "execute_result"
    }
   ],
   "source": [
    "sont_relies(depart=\"A\", arrivee=\"F\", arretes=arretes)"
   ]
  },
  {
   "cell_type": "code",
   "execution_count": 6,
   "id": "f9a368cf-a78f-4d6b-8d34-d23967393ddb",
   "metadata": {
    "tags": []
   },
   "outputs": [
    {
     "data": {
      "text/html": [
       "<pre style=\"white-space:pre;overflow-x:auto;line-height:normal;font-family:Menlo,'DejaVu Sans Mono',consolas,'Courier New',monospace\">D\n",
       "</pre>\n"
      ],
      "text/plain": [
       "D\n"
      ]
     },
     "metadata": {},
     "output_type": "display_data"
    },
    {
     "data": {
      "text/html": [
       "<pre style=\"white-space:pre;overflow-x:auto;line-height:normal;font-family:Menlo,'DejaVu Sans Mono',consolas,'Courier New',monospace\">E\n",
       "</pre>\n"
      ],
      "text/plain": [
       "E\n"
      ]
     },
     "metadata": {},
     "output_type": "display_data"
    },
    {
     "data": {
      "text/html": [
       "<pre style=\"white-space:pre;overflow-x:auto;line-height:normal;font-family:Menlo,'DejaVu Sans Mono',consolas,'Courier New',monospace\">F\n",
       "</pre>\n"
      ],
      "text/plain": [
       "F\n"
      ]
     },
     "metadata": {},
     "output_type": "display_data"
    },
    {
     "data": {
      "text/html": [
       "<pre style=\"white-space:pre;overflow-x:auto;line-height:normal;font-family:Menlo,'DejaVu Sans Mono',consolas,'Courier New',monospace\">D\n",
       "</pre>\n"
      ],
      "text/plain": [
       "D\n"
      ]
     },
     "metadata": {},
     "output_type": "display_data"
    },
    {
     "data": {
      "text/html": [
       "<pre style=\"white-space:pre;overflow-x:auto;line-height:normal;font-family:Menlo,'DejaVu Sans Mono',consolas,'Courier New',monospace\">C\n",
       "</pre>\n"
      ],
      "text/plain": [
       "C\n"
      ]
     },
     "metadata": {},
     "output_type": "display_data"
    },
    {
     "data": {
      "text/html": [
       "<pre style=\"white-space:pre;overflow-x:auto;line-height:normal;font-family:Menlo,'DejaVu Sans Mono',consolas,'Courier New',monospace\">B\n",
       "</pre>\n"
      ],
      "text/plain": [
       "B\n"
      ]
     },
     "metadata": {},
     "output_type": "display_data"
    },
    {
     "data": {
      "text/html": [
       "<pre style=\"white-space:pre;overflow-x:auto;line-height:normal;font-family:Menlo,'DejaVu Sans Mono',consolas,'Courier New',monospace\">D\n",
       "</pre>\n"
      ],
      "text/plain": [
       "D\n"
      ]
     },
     "metadata": {},
     "output_type": "display_data"
    },
    {
     "data": {
      "text/plain": [
       "False"
      ]
     },
     "execution_count": 6,
     "metadata": {},
     "output_type": "execute_result"
    }
   ],
   "source": [
    "sont_relies(depart=\"B\", arrivee=\"A\", arretes=arretes)"
   ]
  },
  {
   "cell_type": "code",
   "execution_count": 7,
   "id": "969daf27-b5fd-45a0-94cc-9bacd820b646",
   "metadata": {},
   "outputs": [],
   "source": [
    "def trouve_chemin(depart: str, arrivee: str, arretes: list[tuple[str, str]]) -> list[str]:\n",
    "    \"\"\"Souleve une exception s'il n'y a pas de chemin\"\"\"\n",
    "    if depart == arrivee:\n",
    "        return [depart]\n",
    "    voisins = [e2 for (e1, e2) in arretes if e1 == depart]\n",
    "    for voisin in voisins:\n",
    "        try: \n",
    "            return [depart] + trouve_chemin(\n",
    "                depart=voisin, \n",
    "                arrivee=arrivee, \n",
    "                arretes=[arrete for arrete in arretes if arrete != (depart, voisin)]\n",
    "            )\n",
    "        except ValueError:\n",
    "            pass\n",
    "    raise ValueError(\"Pas de chemin entre ces sommets avec  ces arrêtes!\")"
   ]
  },
  {
   "cell_type": "code",
   "execution_count": 12,
   "id": "f61d76bf-de89-409a-aabf-0d636a245b3b",
   "metadata": {},
   "outputs": [
    {
     "data": {
      "text/plain": [
       "['A', 'B']"
      ]
     },
     "execution_count": 12,
     "metadata": {},
     "output_type": "execute_result"
    }
   ],
   "source": [
    "trouve_chemin(depart=\"A\", arrivee=\"B\", arretes=arretes)"
   ]
  },
  {
   "cell_type": "code",
   "execution_count": 13,
   "id": "61172dfc-1d06-4621-a526-034aae194383",
   "metadata": {},
   "outputs": [
    {
     "data": {
      "text/plain": [
       "['A', 'B', 'D', 'E', 'F']"
      ]
     },
     "execution_count": 13,
     "metadata": {},
     "output_type": "execute_result"
    }
   ],
   "source": [
    "trouve_chemin(depart=\"A\", arrivee=\"F\", arretes=arretes)"
   ]
  },
  {
   "cell_type": "code",
   "execution_count": 14,
   "id": "50276a22-08d8-4d1b-8ca2-e4728d3b4ab6",
   "metadata": {},
   "outputs": [
    {
     "ename": "ValueError",
     "evalue": "Pas de chemin entre ces sommets avec  ces arrêtes!",
     "output_type": "error",
     "traceback": [
      "\u001b[1;31m---------------------------------------------------------------------------\u001b[0m",
      "\u001b[1;31mValueError\u001b[0m                                Traceback (most recent call last)",
      "Cell \u001b[1;32mIn[14], line 1\u001b[0m\n\u001b[1;32m----> 1\u001b[0m \u001b[43mtrouve_chemin\u001b[49m\u001b[43m(\u001b[49m\u001b[43mdepart\u001b[49m\u001b[38;5;241;43m=\u001b[39;49m\u001b[38;5;124;43m\"\u001b[39;49m\u001b[38;5;124;43mB\u001b[39;49m\u001b[38;5;124;43m\"\u001b[39;49m\u001b[43m,\u001b[49m\u001b[43m \u001b[49m\u001b[43marrivee\u001b[49m\u001b[38;5;241;43m=\u001b[39;49m\u001b[38;5;124;43m\"\u001b[39;49m\u001b[38;5;124;43mA\u001b[39;49m\u001b[38;5;124;43m\"\u001b[39;49m\u001b[43m,\u001b[49m\u001b[43m \u001b[49m\u001b[43marretes\u001b[49m\u001b[38;5;241;43m=\u001b[39;49m\u001b[43marretes\u001b[49m\u001b[43m)\u001b[49m\n",
      "Cell \u001b[1;32mIn[7], line 15\u001b[0m, in \u001b[0;36mtrouve_chemin\u001b[1;34m(depart, arrivee, arretes)\u001b[0m\n\u001b[0;32m     13\u001b[0m     \u001b[38;5;28;01mexcept\u001b[39;00m \u001b[38;5;167;01mValueError\u001b[39;00m:\n\u001b[0;32m     14\u001b[0m         \u001b[38;5;28;01mpass\u001b[39;00m\n\u001b[1;32m---> 15\u001b[0m \u001b[38;5;28;01mraise\u001b[39;00m \u001b[38;5;167;01mValueError\u001b[39;00m(\u001b[38;5;124m\"\u001b[39m\u001b[38;5;124mPas de chemin entre ces sommets avec  ces arrêtes!\u001b[39m\u001b[38;5;124m\"\u001b[39m)\n",
      "\u001b[1;31mValueError\u001b[0m: Pas de chemin entre ces sommets avec  ces arrêtes!"
     ]
    }
   ],
   "source": [
    "trouve_chemin(depart=\"B\", arrivee=\"A\", arretes=arretes)"
   ]
  },
  {
   "cell_type": "markdown",
   "id": "77cac795-92cc-4144-b820-d92b340af32d",
   "metadata": {},
   "source": [
    "**EXERCICE** \n",
    "1. Construire une version itérative de `trouve_chemin` (i.e. sans utiliser de récursion!)\n",
    "2. Coder une version `trouve_chemins` qui renvoie la liste de tous les chemins sans boucle reliant les deux sommets."
   ]
  }
 ],
 "metadata": {
  "kernelspec": {
   "display_name": "Python 3 (ipykernel)",
   "language": "python",
   "name": "python3"
  },
  "language_info": {
   "codemirror_mode": {
    "name": "ipython",
    "version": 3
   },
   "file_extension": ".py",
   "mimetype": "text/x-python",
   "name": "python",
   "nbconvert_exporter": "python",
   "pygments_lexer": "ipython3",
   "version": "3.10.9"
  }
 },
 "nbformat": 4,
 "nbformat_minor": 5
}
